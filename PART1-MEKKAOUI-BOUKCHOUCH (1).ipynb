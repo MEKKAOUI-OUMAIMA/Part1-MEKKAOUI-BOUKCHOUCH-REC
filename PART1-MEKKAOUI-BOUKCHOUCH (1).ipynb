{
 "cells": [
  {
   "cell_type": "markdown",
   "metadata": {},
   "source": [
    "# Import packages"
   ]
  },
  {
   "cell_type": "code",
   "execution_count": null,
   "metadata": {},
   "outputs": [
    {
     "data": {
      "text/plain": [
       "Intitializing Scala interpreter ..."
      ]
     },
     "metadata": {},
     "output_type": "display_data"
    }
   ],
   "source": [
    "import org.apache.spark.ml.evaluation.RegressionEvaluator\n",
    "import org.apache.spark.ml.recommendation.ALS\n",
    "import org.apache.spark.sql.types.IntegerType"
   ]
  },
  {
   "cell_type": "markdown",
   "metadata": {},
   "source": [
    "# Create Class Rating"
   ]
  },
  {
   "cell_type": "code",
   "execution_count": 2,
   "metadata": {},
   "outputs": [
    {
     "data": {
      "text/plain": [
       "defined class Rating\r\n",
       "parseRating: (str: String)Rating\r\n"
      ]
     },
     "execution_count": 2,
     "metadata": {},
     "output_type": "execute_result"
    }
   ],
   "source": [
    "case class Rating(userId: Int, movieId: Int, rating: Float, timestamp: Long)\n",
    "def parseRating(str: String): Rating = {\n",
    "  val fields = str.split(\"::\")\n",
    "  assert(fields.size == 4)\n",
    "  Rating(fields(0).toInt, fields(1).toInt, fields(2).toFloat, fields(3).toLong)\n",
    "}"
   ]
  },
  {
   "cell_type": "markdown",
   "metadata": {},
   "source": [
    "#  Reading of ratings.cvs and transformed string to int\n"
   ]
  },
  {
   "cell_type": "code",
   "execution_count": 3,
   "metadata": {},
   "outputs": [
    {
     "data": {
      "text/plain": [
       "df: org.apache.spark.sql.DataFrame = [userId: string, movieId: string ... 2 more fields]\r\n",
       "ratin: org.apache.spark.sql.DataFrame = [userId: int, movieId: string ... 2 more fields]\r\n",
       "rating: org.apache.spark.sql.DataFrame = [userId: int, movieId: int ... 2 more fields]\r\n",
       "ratings: org.apache.spark.sql.DataFrame = [userId: int, movieId: int ... 2 more fields]\r\n"
      ]
     },
     "execution_count": 3,
     "metadata": {},
     "output_type": "execute_result"
    }
   ],
   "source": [
    "val df = spark.read.option(\"header\",true)\n",
    "    .csv(\"ratings.csv\")\n",
    "  \n",
    "val ratin = df.withColumn(\"userId\",col(\"userId\").cast(IntegerType))\n",
    "val rating = ratin.withColumn(\"movieId\",col(\"movieId\").cast(IntegerType))\n",
    "val ratings = rating.withColumn(\"rating\",col(\"rating\").cast(IntegerType))"
   ]
  },
  {
   "cell_type": "markdown",
   "metadata": {},
   "source": [
    "# Data training "
   ]
  },
  {
   "cell_type": "code",
   "execution_count": 4,
   "metadata": {},
   "outputs": [
    {
     "data": {
      "text/plain": [
       "training: org.apache.spark.sql.Dataset[org.apache.spark.sql.Row] = [userId: int, movieId: int ... 2 more fields]\r\n",
       "test: org.apache.spark.sql.Dataset[org.apache.spark.sql.Row] = [userId: int, movieId: int ... 2 more fields]\r\n"
      ]
     },
     "execution_count": 4,
     "metadata": {},
     "output_type": "execute_result"
    }
   ],
   "source": [
    "val Array(training, test) = ratings.randomSplit(Array(0.8, 0.2))\n"
   ]
  },
  {
   "cell_type": "markdown",
   "metadata": {},
   "source": [
    "# Construction of models"
   ]
  },
  {
   "cell_type": "code",
   "execution_count": 5,
   "metadata": {},
   "outputs": [
    {
     "data": {
      "text/plain": [
       "als: org.apache.spark.ml.recommendation.ALS = als_51e279af3b04\r\n"
      ]
     },
     "execution_count": 5,
     "metadata": {},
     "output_type": "execute_result"
    }
   ],
   "source": [
    "val als = new ALS()\n",
    "  .setMaxIter(5)\n",
    "  .setRegParam(0.01)\n",
    "  .setImplicitPrefs(true)\n",
    "  .setUserCol(\"userId\")\n",
    "  .setItemCol(\"movieId\")\n",
    "  .setRatingCol(\"rating\")"
   ]
  },
  {
   "cell_type": "code",
   "execution_count": 6,
   "metadata": {},
   "outputs": [
    {
     "data": {
      "text/plain": [
       "model: org.apache.spark.ml.recommendation.ALSModel = ALSModel: uid=als_51e279af3b04, rank=10\r\n"
      ]
     },
     "execution_count": 6,
     "metadata": {},
     "output_type": "execute_result"
    }
   ],
   "source": [
    "val model = als.fit(training)"
   ]
  },
  {
   "cell_type": "code",
   "execution_count": 7,
   "metadata": {},
   "outputs": [
    {
     "name": "stdout",
     "output_type": "stream",
     "text": [
      "Root-mean-square error = 3.1024561929844605\n",
      "+------+--------------------+\n",
      "|userId|     recommendations|\n",
      "+------+--------------------+\n",
      "|   471|[{318, 0.55660677...|\n",
      "|   463|[{2571, 0.4156339...|\n",
      "|   496|[{2571, 0.3543136...|\n",
      "|   148|[{68954, 0.567288...|\n",
      "+------+--------------------+\n",
      "only showing top 4 rows\n",
      "\n"
     ]
    },
    {
     "data": {
      "text/plain": [
       "predictions: org.apache.spark.sql.DataFrame = [userId: int, movieId: int ... 3 more fields]\r\n",
       "evaluator: org.apache.spark.ml.evaluation.RegressionEvaluator = RegressionEvaluator: uid=regEval_7f9c970b8a72, metricName=rmse, throughOrigin=false\r\n",
       "rmse: Double = 3.1024561929844605\r\n",
       "userRecs: org.apache.spark.sql.DataFrame = [userId: int, recommendations: array<struct<movieId:int,rating:float>>]\r\n",
       "movieRecs: org.apache.spark.sql.DataFrame = [movieId: int, recommendations: array<struct<userId:int,rating:float>>]\r\n"
      ]
     },
     "execution_count": 7,
     "metadata": {},
     "output_type": "execute_result"
    }
   ],
   "source": [
    "model.setColdStartStrategy(\"drop\")\n",
    "val predictions = model.transform(test)\n",
    "\n",
    "val evaluator = new RegressionEvaluator()\n",
    "  .setMetricName(\"rmse\")\n",
    "  .setLabelCol(\"rating\")\n",
    "  .setPredictionCol(\"prediction\")\n",
    "val rmse = evaluator.evaluate(predictions)\n",
    "println(s\"Root-mean-square error = $rmse\")\n",
    "\n",
    "// Generate top 10 movie recommendations for each user\n",
    "val userRecs = model.recommendForAllUsers(10)\n",
    "// Generate top 10 user recommendations for each movie\n",
    "val movieRecs = model.recommendForAllItems(10)\n",
    "\n",
    "userRecs.show(4)"
   ]
  },
  {
   "cell_type": "markdown",
   "metadata": {},
   "source": [
    "# UserRecs: Recommandation of movies to every user\n",
    "# movieRecs: Recommandation of users to every movie"
   ]
  },
  {
   "cell_type": "code",
   "execution_count": 8,
   "metadata": {},
   "outputs": [
    {
     "name": "stdout",
     "output_type": "stream",
     "text": [
      "+------+--------------------+\n",
      "|userId|     recommendations|\n",
      "+------+--------------------+\n",
      "|   471|[{318, 0.55660677...|\n",
      "|   463|[{2571, 0.4156339...|\n",
      "|   496|[{2571, 0.3543136...|\n",
      "|   148|[{68954, 0.567288...|\n",
      "|   540|[{2571, 0.5999577...|\n",
      "|   392|[{2571, 0.2923303...|\n",
      "|   243|[{165, 0.7191207}...|\n",
      "|    31|[{356, 0.67481244...|\n",
      "|   516|[{2571, 0.2730559...|\n",
      "|   580|[{2571, 1.4054843...|\n",
      "+------+--------------------+\n",
      "only showing top 10 rows\n",
      "\n",
      "+-------+--------------------+\n",
      "|movieId|     recommendations|\n",
      "+-------+--------------------+\n",
      "|   1580|[{590, 1.2592335}...|\n",
      "|   4900|[{111, 0.45070204...|\n",
      "|   5300|[{387, 0.18794394...|\n",
      "|   6620|[{474, 1.0671625}...|\n",
      "|   7340|[{474, 0.85126686...|\n",
      "|  32460|[{105, 0.5851133}...|\n",
      "|  54190|[{89, 0.7411296},...|\n",
      "|    471|[{474, 1.3261654}...|\n",
      "|   1591|[{274, 1.0213125}...|\n",
      "| 140541|[{89, 0.42056593}...|\n",
      "+-------+--------------------+\n",
      "only showing top 10 rows\n",
      "\n"
     ]
    }
   ],
   "source": [
    "userRecs.show(10)\n",
    "movieRecs.show(10)"
   ]
  },
  {
   "cell_type": "code",
   "execution_count": null,
   "metadata": {},
   "outputs": [],
   "source": []
  }
 ],
 "metadata": {
  "kernelspec": {
   "display_name": "spylon-kernel",
   "language": "scala",
   "name": "spylon-kernel"
  },
  "language_info": {
   "codemirror_mode": "text/x-scala",
   "file_extension": ".scala",
   "help_links": [
    {
     "text": "MetaKernel Magics",
     "url": "https://metakernel.readthedocs.io/en/latest/source/README.html"
    }
   ],
   "mimetype": "text/x-scala",
   "name": "scala",
   "pygments_lexer": "scala",
   "version": "0.4.1"
  }
 },
 "nbformat": 4,
 "nbformat_minor": 4
}
